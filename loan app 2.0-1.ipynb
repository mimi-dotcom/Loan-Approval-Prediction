{
    "cells": [
        {
            "cell_type": "code",
            "execution_count": 1,
            "metadata": {},
            "outputs": [],
            "source": [
                "import pandas as pd\n",
                "import numpy as np"
            ]
        },
        {
            "cell_type": "code",
            "execution_count": null,
            "metadata": {},
            "outputs": [],
            "source": []
        },
        {
            "cell_type": "code",
            "execution_count": 4,
            "metadata": {},
            "outputs": [],
            "source": [
                "df=pd.read_csv('train_u6lujuX_CVtuZ9i (1).csv')"
            ]
        },
        {
            "cell_type": "code",
            "execution_count": 129,
            "metadata": {},
            "outputs": [
                {
                    "data": {
                        "text/html": [
                            "<div>\n",
                            "<style scoped>\n",
                            "    .dataframe tbody tr th:only-of-type {\n",
                            "        vertical-align: middle;\n",
                            "    }\n",
                            "\n",
                            "    .dataframe tbody tr th {\n",
                            "        vertical-align: top;\n",
                            "    }\n",
                            "\n",
                            "    .dataframe thead th {\n",
                            "        text-align: right;\n",
                            "    }\n",
                            "</style>\n",
                            "<table border=\"1\" class=\"dataframe\">\n",
                            "  <thead>\n",
                            "    <tr style=\"text-align: right;\">\n",
                            "      <th></th>\n",
                            "      <th>Loan_ID</th>\n",
                            "      <th>Gender</th>\n",
                            "      <th>Married</th>\n",
                            "      <th>Dependents</th>\n",
                            "      <th>Education</th>\n",
                            "      <th>Self_Employed</th>\n",
                            "      <th>ApplicantIncome</th>\n",
                            "      <th>CoapplicantIncome</th>\n",
                            "      <th>LoanAmount</th>\n",
                            "      <th>Loan_Amount_Term</th>\n",
                            "      <th>Credit_History</th>\n",
                            "      <th>Property_Area</th>\n",
                            "      <th>Loan_Status</th>\n",
                            "    </tr>\n",
                            "  </thead>\n",
                            "  <tbody>\n",
                            "    <tr>\n",
                            "      <th>0</th>\n",
                            "      <td>LP001002</td>\n",
                            "      <td>Male</td>\n",
                            "      <td>No</td>\n",
                            "      <td>0</td>\n",
                            "      <td>Graduate</td>\n",
                            "      <td>No</td>\n",
                            "      <td>5849</td>\n",
                            "      <td>0.0</td>\n",
                            "      <td>NaN</td>\n",
                            "      <td>360.0</td>\n",
                            "      <td>1.0</td>\n",
                            "      <td>Urban</td>\n",
                            "      <td>Y</td>\n",
                            "    </tr>\n",
                            "    <tr>\n",
                            "      <th>1</th>\n",
                            "      <td>LP001003</td>\n",
                            "      <td>Male</td>\n",
                            "      <td>Yes</td>\n",
                            "      <td>1</td>\n",
                            "      <td>Graduate</td>\n",
                            "      <td>No</td>\n",
                            "      <td>4583</td>\n",
                            "      <td>1508.0</td>\n",
                            "      <td>128.0</td>\n",
                            "      <td>360.0</td>\n",
                            "      <td>1.0</td>\n",
                            "      <td>Rural</td>\n",
                            "      <td>N</td>\n",
                            "    </tr>\n",
                            "    <tr>\n",
                            "      <th>2</th>\n",
                            "      <td>LP001005</td>\n",
                            "      <td>Male</td>\n",
                            "      <td>Yes</td>\n",
                            "      <td>0</td>\n",
                            "      <td>Graduate</td>\n",
                            "      <td>Yes</td>\n",
                            "      <td>3000</td>\n",
                            "      <td>0.0</td>\n",
                            "      <td>66.0</td>\n",
                            "      <td>360.0</td>\n",
                            "      <td>1.0</td>\n",
                            "      <td>Urban</td>\n",
                            "      <td>Y</td>\n",
                            "    </tr>\n",
                            "    <tr>\n",
                            "      <th>3</th>\n",
                            "      <td>LP001006</td>\n",
                            "      <td>Male</td>\n",
                            "      <td>Yes</td>\n",
                            "      <td>0</td>\n",
                            "      <td>Not Graduate</td>\n",
                            "      <td>No</td>\n",
                            "      <td>2583</td>\n",
                            "      <td>2358.0</td>\n",
                            "      <td>120.0</td>\n",
                            "      <td>360.0</td>\n",
                            "      <td>1.0</td>\n",
                            "      <td>Urban</td>\n",
                            "      <td>Y</td>\n",
                            "    </tr>\n",
                            "    <tr>\n",
                            "      <th>4</th>\n",
                            "      <td>LP001008</td>\n",
                            "      <td>Male</td>\n",
                            "      <td>No</td>\n",
                            "      <td>0</td>\n",
                            "      <td>Graduate</td>\n",
                            "      <td>No</td>\n",
                            "      <td>6000</td>\n",
                            "      <td>0.0</td>\n",
                            "      <td>141.0</td>\n",
                            "      <td>360.0</td>\n",
                            "      <td>1.0</td>\n",
                            "      <td>Urban</td>\n",
                            "      <td>Y</td>\n",
                            "    </tr>\n",
                            "  </tbody>\n",
                            "</table>\n",
                            "</div>"
                        ],
                        "text/plain": [
                            "    Loan_ID Gender Married Dependents     Education Self_Employed  \\\n",
                            "0  LP001002   Male      No          0      Graduate            No   \n",
                            "1  LP001003   Male     Yes          1      Graduate            No   \n",
                            "2  LP001005   Male     Yes          0      Graduate           Yes   \n",
                            "3  LP001006   Male     Yes          0  Not Graduate            No   \n",
                            "4  LP001008   Male      No          0      Graduate            No   \n",
                            "\n",
                            "   ApplicantIncome  CoapplicantIncome  LoanAmount  Loan_Amount_Term  \\\n",
                            "0             5849                0.0         NaN             360.0   \n",
                            "1             4583             1508.0       128.0             360.0   \n",
                            "2             3000                0.0        66.0             360.0   \n",
                            "3             2583             2358.0       120.0             360.0   \n",
                            "4             6000                0.0       141.0             360.0   \n",
                            "\n",
                            "   Credit_History Property_Area Loan_Status  \n",
                            "0             1.0         Urban           Y  \n",
                            "1             1.0         Rural           N  \n",
                            "2             1.0         Urban           Y  \n",
                            "3             1.0         Urban           Y  \n",
                            "4             1.0         Urban           Y  "
                        ]
                    },
                    "execution_count": 129,
                    "metadata": {},
                    "output_type": "execute_result"
                }
            ],
            "source": [
                "df.head(5)"
            ]
        },
        {
            "cell_type": "code",
            "execution_count": 116,
            "metadata": {},
            "outputs": [
                {
                    "data": {
                        "text/plain": [
                            "Loan_ID               0\n",
                            "Gender               13\n",
                            "Married               3\n",
                            "Dependents           15\n",
                            "Education             0\n",
                            "Self_Employed        32\n",
                            "ApplicantIncome       0\n",
                            "CoapplicantIncome     0\n",
                            "LoanAmount           22\n",
                            "Loan_Amount_Term     14\n",
                            "Credit_History       50\n",
                            "Property_Area         0\n",
                            "Loan_Status           0\n",
                            "dtype: int64"
                        ]
                    },
                    "execution_count": 116,
                    "metadata": {},
                    "output_type": "execute_result"
                }
            ],
            "source": [
                "df.isnull().sum()"
            ]
        },
        {
            "cell_type": "code",
            "execution_count": 5,
            "metadata": {},
            "outputs": [],
            "source": [
                "new_df=df.dropna()\n",
                "new_df.head(5)\n",
                "loan_df=new_df.drop('Loan_ID',axis=1)"
            ]
        },
        {
            "cell_type": "code",
            "execution_count": 6,
            "metadata": {},
            "outputs": [
                {
                    "data": {
                        "text/plain": [
                            "<bound method NDFrame.head of      ApplicantIncome  CoapplicantIncome  LoanAmount  Loan_Amount_Term  \\\n",
                            "1               4583             1508.0       128.0             360.0   \n",
                            "2               3000                0.0        66.0             360.0   \n",
                            "3               2583             2358.0       120.0             360.0   \n",
                            "4               6000                0.0       141.0             360.0   \n",
                            "5               5417             4196.0       267.0             360.0   \n",
                            "..               ...                ...         ...               ...   \n",
                            "609             2900                0.0        71.0             360.0   \n",
                            "610             4106                0.0        40.0             180.0   \n",
                            "611             8072              240.0       253.0             360.0   \n",
                            "612             7583                0.0       187.0             360.0   \n",
                            "613             4583                0.0       133.0             360.0   \n",
                            "\n",
                            "     Credit_History  Gender_Male  Married_Yes  Dependents_1  Dependents_2  \\\n",
                            "1               1.0            1            1             1             0   \n",
                            "2               1.0            1            1             0             0   \n",
                            "3               1.0            1            1             0             0   \n",
                            "4               1.0            1            0             0             0   \n",
                            "5               1.0            1            1             0             1   \n",
                            "..              ...          ...          ...           ...           ...   \n",
                            "609             1.0            0            0             0             0   \n",
                            "610             1.0            1            1             0             0   \n",
                            "611             1.0            1            1             1             0   \n",
                            "612             1.0            1            1             0             1   \n",
                            "613             0.0            0            0             0             0   \n",
                            "\n",
                            "     Dependents_3+  Education_Not Graduate  Self_Employed_Yes  \\\n",
                            "1                0                       0                  0   \n",
                            "2                0                       0                  1   \n",
                            "3                0                       1                  0   \n",
                            "4                0                       0                  0   \n",
                            "5                0                       0                  1   \n",
                            "..             ...                     ...                ...   \n",
                            "609              0                       0                  0   \n",
                            "610              1                       0                  0   \n",
                            "611              0                       0                  0   \n",
                            "612              0                       0                  0   \n",
                            "613              0                       0                  1   \n",
                            "\n",
                            "     Property_Area_Semiurban  Property_Area_Urban  Loan_Status_Y  \n",
                            "1                          0                    0              0  \n",
                            "2                          0                    1              1  \n",
                            "3                          0                    1              1  \n",
                            "4                          0                    1              1  \n",
                            "5                          0                    1              1  \n",
                            "..                       ...                  ...            ...  \n",
                            "609                        0                    0              1  \n",
                            "610                        0                    0              1  \n",
                            "611                        0                    1              1  \n",
                            "612                        0                    1              1  \n",
                            "613                        1                    0              0  \n",
                            "\n",
                            "[480 rows x 15 columns]>"
                        ]
                    },
                    "execution_count": 6,
                    "metadata": {},
                    "output_type": "execute_result"
                }
            ],
            "source": [
                "encoded_df=pd.get_dummies(loan_df,drop_first=True)\n",
                "encoded_df.head\n",
                "\n"
            ]
        },
        {
            "cell_type": "code",
            "execution_count": 8,
            "metadata": {},
            "outputs": [],
            "source": [
                "y=encoded_df[['Loan_Status_Y']]\n",
                "X = encoded_df[['Gender_Male', 'Married_Yes', 'ApplicantIncome', \n",
                "      'LoanAmount', 'Credit_History']]"
            ]
        },
        {
            "cell_type": "code",
            "execution_count": 9,
            "metadata": {},
            "outputs": [],
            "source": [
                "from sklearn.impute import SimpleImputer\n",
                "imp=SimpleImputer(strategy='mean')\n",
                "X_imputed=imp.fit_transform(X)\n"
            ]
        },
        {
            "cell_type": "code",
            "execution_count": 10,
            "metadata": {},
            "outputs": [],
            "source": [
                "from sklearn.model_selection import train_test_split\n",
                "X_train,X_test,y_train,y_test=train_test_split(X,y,random_state=10,test_size=0.2)\n"
            ]
        },
        {
            "cell_type": "code",
            "execution_count": 11,
            "metadata": {},
            "outputs": [],
            "source": [
                "from sklearn.ensemble import RandomForestClassifier\n",
                "model=RandomForestClassifier(n_estimators=100,random_state=10)"
            ]
        },
        {
            "cell_type": "code",
            "execution_count": 13,
            "metadata": {},
            "outputs": [
                {
                    "name": "stdout",
                    "output_type": "stream",
                    "text": [
                        "0.7916666666666666\n"
                    ]
                },
                {
                    "name": "stderr",
                    "output_type": "stream",
                    "text": [
                        "<ipython-input-13-b2951fe20022>:1: DataConversionWarning: A column-vector y was passed when a 1d array was expected. Please change the shape of y to (n_samples,), for example using ravel().\n",
                        "  model.fit(X_train,y_train)\n"
                    ]
                }
            ],
            "source": [
                "model.fit(X_train,y_train)\n",
                "\n",
                "y_pred=model.predict(X_test)\n",
                "\n",
                "from sklearn.metrics import accuracy_score\n",
                "\n",
                "score=accuracy_score(y_pred,y_test)\n",
                "print(score)\n"
            ]
        },
        {
            "cell_type": "code",
            "execution_count": 15,
            "metadata": {},
            "outputs": [],
            "source": [
                " #saving the model \n",
                "import pickle \n",
                "pickle_out = open(\"classifier.pkl\", mode = \"wb\") \n",
                "pickle.dump(model, pickle_out) \n",
                "pickle_out.close()"
            ]
        },
        {
            "cell_type": "code",
            "execution_count": 16,
            "metadata": {},
            "outputs": [
                {
                    "name": "stdout",
                    "output_type": "stream",
                    "text": [
                        "0.7916666666666666\n"
                    ]
                }
            ],
            "source": [
                "loaded_model=pickle.load(open('classifier.pkl','rb'))\n",
                "result=loaded_model.score(X_test,y_test)\n",
                "print(result)"
            ]
        },
        {
            "cell_type": "code",
            "execution_count": null,
            "metadata": {},
            "outputs": [],
            "source": [
                "\n"
            ]
        },
        {
            "cell_type": "code",
            "execution_count": null,
            "metadata": {},
            "outputs": [],
            "source": []
        }
    ],
    "metadata": {
        "interpreter": {
            "hash": "76d6ee9b9168912caf795856486b8d651e8052cb42da298305185f8ae0050446"
        },
        "kernelspec": {
            "display_name": "Python 3.8.8 64-bit (conda)",
            "name": "python3"
        },
        "language_info": {
            "codemirror_mode": {
                "name": "ipython",
                "version": 3
            },
            "file_extension": ".py",
            "mimetype": "text/x-python",
            "name": "python",
            "nbconvert_exporter": "python",
            "pygments_lexer": "ipython3",
            "version": "3.8.8"
        },
        "orig_nbformat": 4
    },
    "nbformat": 4,
    "nbformat_minor": 2
}
