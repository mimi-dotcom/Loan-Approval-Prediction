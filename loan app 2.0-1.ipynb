{
    "cells": [
        {
            "cell_type": "code",
            "execution_count": 112,
            "source": [
                "import pandas as pd\n",
                "import numpy as np"
            ],
            "outputs": [],
            "metadata": {}
        },
        {
            "cell_type": "code",
            "execution_count": 113,
            "source": [
                "df=pd.read_csv('https://raw.githubusercontent.com/codinghappiness-web/streamlit_app.py/main/train_u6lujuX_CVtuZ9i.csv')"
            ],
            "outputs": [],
            "metadata": {}
        },
        {
            "cell_type": "code",
            "execution_count": 129,
            "source": [
                "df.head(5)"
            ],
            "outputs": [
                {
                    "output_type": "execute_result",
                    "data": {
                        "text/plain": [
                            "    Loan_ID Gender Married Dependents     Education Self_Employed  \\\n",
                            "0  LP001002   Male      No          0      Graduate            No   \n",
                            "1  LP001003   Male     Yes          1      Graduate            No   \n",
                            "2  LP001005   Male     Yes          0      Graduate           Yes   \n",
                            "3  LP001006   Male     Yes          0  Not Graduate            No   \n",
                            "4  LP001008   Male      No          0      Graduate            No   \n",
                            "\n",
                            "   ApplicantIncome  CoapplicantIncome  LoanAmount  Loan_Amount_Term  \\\n",
                            "0             5849                0.0         NaN             360.0   \n",
                            "1             4583             1508.0       128.0             360.0   \n",
                            "2             3000                0.0        66.0             360.0   \n",
                            "3             2583             2358.0       120.0             360.0   \n",
                            "4             6000                0.0       141.0             360.0   \n",
                            "\n",
                            "   Credit_History Property_Area Loan_Status  \n",
                            "0             1.0         Urban           Y  \n",
                            "1             1.0         Rural           N  \n",
                            "2             1.0         Urban           Y  \n",
                            "3             1.0         Urban           Y  \n",
                            "4             1.0         Urban           Y  "
                        ],
                        "text/html": [
                            "<div>\n",
                            "<style scoped>\n",
                            "    .dataframe tbody tr th:only-of-type {\n",
                            "        vertical-align: middle;\n",
                            "    }\n",
                            "\n",
                            "    .dataframe tbody tr th {\n",
                            "        vertical-align: top;\n",
                            "    }\n",
                            "\n",
                            "    .dataframe thead th {\n",
                            "        text-align: right;\n",
                            "    }\n",
                            "</style>\n",
                            "<table border=\"1\" class=\"dataframe\">\n",
                            "  <thead>\n",
                            "    <tr style=\"text-align: right;\">\n",
                            "      <th></th>\n",
                            "      <th>Loan_ID</th>\n",
                            "      <th>Gender</th>\n",
                            "      <th>Married</th>\n",
                            "      <th>Dependents</th>\n",
                            "      <th>Education</th>\n",
                            "      <th>Self_Employed</th>\n",
                            "      <th>ApplicantIncome</th>\n",
                            "      <th>CoapplicantIncome</th>\n",
                            "      <th>LoanAmount</th>\n",
                            "      <th>Loan_Amount_Term</th>\n",
                            "      <th>Credit_History</th>\n",
                            "      <th>Property_Area</th>\n",
                            "      <th>Loan_Status</th>\n",
                            "    </tr>\n",
                            "  </thead>\n",
                            "  <tbody>\n",
                            "    <tr>\n",
                            "      <th>0</th>\n",
                            "      <td>LP001002</td>\n",
                            "      <td>Male</td>\n",
                            "      <td>No</td>\n",
                            "      <td>0</td>\n",
                            "      <td>Graduate</td>\n",
                            "      <td>No</td>\n",
                            "      <td>5849</td>\n",
                            "      <td>0.0</td>\n",
                            "      <td>NaN</td>\n",
                            "      <td>360.0</td>\n",
                            "      <td>1.0</td>\n",
                            "      <td>Urban</td>\n",
                            "      <td>Y</td>\n",
                            "    </tr>\n",
                            "    <tr>\n",
                            "      <th>1</th>\n",
                            "      <td>LP001003</td>\n",
                            "      <td>Male</td>\n",
                            "      <td>Yes</td>\n",
                            "      <td>1</td>\n",
                            "      <td>Graduate</td>\n",
                            "      <td>No</td>\n",
                            "      <td>4583</td>\n",
                            "      <td>1508.0</td>\n",
                            "      <td>128.0</td>\n",
                            "      <td>360.0</td>\n",
                            "      <td>1.0</td>\n",
                            "      <td>Rural</td>\n",
                            "      <td>N</td>\n",
                            "    </tr>\n",
                            "    <tr>\n",
                            "      <th>2</th>\n",
                            "      <td>LP001005</td>\n",
                            "      <td>Male</td>\n",
                            "      <td>Yes</td>\n",
                            "      <td>0</td>\n",
                            "      <td>Graduate</td>\n",
                            "      <td>Yes</td>\n",
                            "      <td>3000</td>\n",
                            "      <td>0.0</td>\n",
                            "      <td>66.0</td>\n",
                            "      <td>360.0</td>\n",
                            "      <td>1.0</td>\n",
                            "      <td>Urban</td>\n",
                            "      <td>Y</td>\n",
                            "    </tr>\n",
                            "    <tr>\n",
                            "      <th>3</th>\n",
                            "      <td>LP001006</td>\n",
                            "      <td>Male</td>\n",
                            "      <td>Yes</td>\n",
                            "      <td>0</td>\n",
                            "      <td>Not Graduate</td>\n",
                            "      <td>No</td>\n",
                            "      <td>2583</td>\n",
                            "      <td>2358.0</td>\n",
                            "      <td>120.0</td>\n",
                            "      <td>360.0</td>\n",
                            "      <td>1.0</td>\n",
                            "      <td>Urban</td>\n",
                            "      <td>Y</td>\n",
                            "    </tr>\n",
                            "    <tr>\n",
                            "      <th>4</th>\n",
                            "      <td>LP001008</td>\n",
                            "      <td>Male</td>\n",
                            "      <td>No</td>\n",
                            "      <td>0</td>\n",
                            "      <td>Graduate</td>\n",
                            "      <td>No</td>\n",
                            "      <td>6000</td>\n",
                            "      <td>0.0</td>\n",
                            "      <td>141.0</td>\n",
                            "      <td>360.0</td>\n",
                            "      <td>1.0</td>\n",
                            "      <td>Urban</td>\n",
                            "      <td>Y</td>\n",
                            "    </tr>\n",
                            "  </tbody>\n",
                            "</table>\n",
                            "</div>"
                        ]
                    },
                    "metadata": {},
                    "execution_count": 129
                }
            ],
            "metadata": {}
        },
        {
            "cell_type": "code",
            "execution_count": 116,
            "source": [
                "df.isnull().sum()"
            ],
            "outputs": [
                {
                    "output_type": "execute_result",
                    "data": {
                        "text/plain": [
                            "Loan_ID               0\n",
                            "Gender               13\n",
                            "Married               3\n",
                            "Dependents           15\n",
                            "Education             0\n",
                            "Self_Employed        32\n",
                            "ApplicantIncome       0\n",
                            "CoapplicantIncome     0\n",
                            "LoanAmount           22\n",
                            "Loan_Amount_Term     14\n",
                            "Credit_History       50\n",
                            "Property_Area         0\n",
                            "Loan_Status           0\n",
                            "dtype: int64"
                        ]
                    },
                    "metadata": {},
                    "execution_count": 116
                }
            ],
            "metadata": {}
        },
        {
            "cell_type": "code",
            "execution_count": 117,
            "source": [
                "new_df=df.dropna()\n",
                "new_df.head(5)\n",
                "loan_df=new_df.drop('Loan_ID',axis=1)"
            ],
            "outputs": [],
            "metadata": {}
        },
        {
            "cell_type": "code",
            "execution_count": 118,
            "source": [
                "encoded_df=pd.get_dummies(loan_df,drop_first=True)\n",
                "encoded_df.head\n",
                "\n"
            ],
            "outputs": [
                {
                    "output_type": "execute_result",
                    "data": {
                        "text/plain": [
                            "<bound method NDFrame.head of      ApplicantIncome  CoapplicantIncome  LoanAmount  Loan_Amount_Term  \\\n",
                            "1               4583             1508.0       128.0             360.0   \n",
                            "2               3000                0.0        66.0             360.0   \n",
                            "3               2583             2358.0       120.0             360.0   \n",
                            "4               6000                0.0       141.0             360.0   \n",
                            "5               5417             4196.0       267.0             360.0   \n",
                            "..               ...                ...         ...               ...   \n",
                            "609             2900                0.0        71.0             360.0   \n",
                            "610             4106                0.0        40.0             180.0   \n",
                            "611             8072              240.0       253.0             360.0   \n",
                            "612             7583                0.0       187.0             360.0   \n",
                            "613             4583                0.0       133.0             360.0   \n",
                            "\n",
                            "     Credit_History  Gender_Male  Married_Yes  Dependents_1  Dependents_2  \\\n",
                            "1               1.0            1            1             1             0   \n",
                            "2               1.0            1            1             0             0   \n",
                            "3               1.0            1            1             0             0   \n",
                            "4               1.0            1            0             0             0   \n",
                            "5               1.0            1            1             0             1   \n",
                            "..              ...          ...          ...           ...           ...   \n",
                            "609             1.0            0            0             0             0   \n",
                            "610             1.0            1            1             0             0   \n",
                            "611             1.0            1            1             1             0   \n",
                            "612             1.0            1            1             0             1   \n",
                            "613             0.0            0            0             0             0   \n",
                            "\n",
                            "     Dependents_3+  Education_Not Graduate  Self_Employed_Yes  \\\n",
                            "1                0                       0                  0   \n",
                            "2                0                       0                  1   \n",
                            "3                0                       1                  0   \n",
                            "4                0                       0                  0   \n",
                            "5                0                       0                  1   \n",
                            "..             ...                     ...                ...   \n",
                            "609              0                       0                  0   \n",
                            "610              1                       0                  0   \n",
                            "611              0                       0                  0   \n",
                            "612              0                       0                  0   \n",
                            "613              0                       0                  1   \n",
                            "\n",
                            "     Property_Area_Semiurban  Property_Area_Urban  Loan_Status_Y  \n",
                            "1                          0                    0              0  \n",
                            "2                          0                    1              1  \n",
                            "3                          0                    1              1  \n",
                            "4                          0                    1              1  \n",
                            "5                          0                    1              1  \n",
                            "..                       ...                  ...            ...  \n",
                            "609                        0                    0              1  \n",
                            "610                        0                    0              1  \n",
                            "611                        0                    1              1  \n",
                            "612                        0                    1              1  \n",
                            "613                        1                    0              0  \n",
                            "\n",
                            "[480 rows x 15 columns]>"
                        ]
                    },
                    "metadata": {},
                    "execution_count": 118
                }
            ],
            "metadata": {}
        },
        {
            "cell_type": "code",
            "execution_count": 139,
            "source": [
                "y=encoded_df[['Loan_Status_Y']]\n",
                "X = encoded_df[['Gender_Male', 'Married_Yes', 'ApplicantIncome', \n",
                "      'LoanAmount', 'Credit_History']]"
            ],
            "outputs": [],
            "metadata": {}
        },
        {
            "cell_type": "code",
            "execution_count": 140,
            "source": [
                "from sklearn.impute import SimpleImputer\n",
                "imp=SimpleImputer(strategy='mean')\n",
                "X_imputed=imp.fit_transform(X)\n"
            ],
            "outputs": [],
            "metadata": {}
        },
        {
            "cell_type": "code",
            "execution_count": 141,
            "source": [
                "from sklearn.model_selection import train_test_split\n",
                "X_train,X_test,y_train,y_test=train_test_split(X,y,random_state=10,test_size=0.2)\n"
            ],
            "outputs": [],
            "metadata": {}
        },
        {
            "cell_type": "code",
            "execution_count": 142,
            "source": [
                "from sklearn.ensemble import RandomForestClassifier\n",
                "model=RandomForestClassifier(n_estimators=100,random_state=10)"
            ],
            "outputs": [],
            "metadata": {}
        },
        {
            "cell_type": "code",
            "execution_count": 143,
            "source": [
                "model.fit(X_train,y_train)\n",
                "\n",
                "y_pred=model.predict(X_test)\n",
                "\n",
                "from sklearn.metrics import accuracy_score\n",
                "\n",
                "score=accuracy_score(y_pred,y_test)\n",
                "print(score)\n"
            ],
            "outputs": [
                {
                    "output_type": "stream",
                    "name": "stdout",
                    "text": [
                        "0.7916666666666666\n"
                    ]
                },
                {
                    "output_type": "stream",
                    "name": "stderr",
                    "text": [
                        "<ipython-input-143-b2951fe20022>:1: DataConversionWarning: A column-vector y was passed when a 1d array was expected. Please change the shape of y to (n_samples,), for example using ravel().\n",
                        "  model.fit(X_train,y_train)\n"
                    ]
                }
            ],
            "metadata": {}
        },
        {
            "cell_type": "code",
            "execution_count": 144,
            "source": [
                " #saving the model \n",
                "import pickle \n",
                "pickle_out = open(\"classifier.pkl\", mode = \"wb\") \n",
                "pickle.dump(model, pickle_out) \n",
                "pickle_out.close()"
            ],
            "outputs": [],
            "metadata": {}
        },
        {
            "cell_type": "code",
            "execution_count": 147,
            "source": [
                "loaded_model=pickle.load(open('classifier.pkl','rb'))\n",
                "result=loaded_model.score(X_test,y_test)\n",
                "print(result)"
            ],
            "outputs": [
                {
                    "output_type": "stream",
                    "name": "stdout",
                    "text": [
                        "0.7916666666666666\n"
                    ]
                }
            ],
            "metadata": {}
        },
        {
            "cell_type": "code",
            "execution_count": null,
            "source": [
                "\n"
            ],
            "outputs": [],
            "metadata": {}
        },
        {
            "cell_type": "code",
            "execution_count": null,
            "source": [],
            "outputs": [],
            "metadata": {}
        }
    ],
    "metadata": {
        "orig_nbformat": 4,
        "language_info": {
            "name": "python",
            "version": "3.8.8",
            "mimetype": "text/x-python",
            "codemirror_mode": {
                "name": "ipython",
                "version": 3
            },
            "pygments_lexer": "ipython3",
            "nbconvert_exporter": "python",
            "file_extension": ".py"
        },
        "kernelspec": {
            "name": "python3",
            "display_name": "Python 3.8.8 64-bit ('base': conda)"
        },
        "interpreter": {
            "hash": "dca0ade3e726a953b501b15e8e990130d2b7799f14cfd9f4271676035ebe5511"
        }
    },
    "nbformat": 4,
    "nbformat_minor": 2
}